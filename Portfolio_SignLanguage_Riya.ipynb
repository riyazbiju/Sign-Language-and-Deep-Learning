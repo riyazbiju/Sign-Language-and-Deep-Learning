{
  "cells": [
    {
      "cell_type": "markdown",
      "source": [
        "# <center> </center>\n",
        "# <center> **Deep Learning** </center>\n",
        "# <center> **Sign Language Classifier**</center>"
      ],
      "metadata": {
        "id": "gIG8cj8yj9tU"
      },
      "id": "gIG8cj8yj9tU"
    },
    {
      "cell_type": "markdown",
      "source": [
        "**Q** : Your friend Margot asked you for help. She works with deaf people and hence uses a lot of sign languge.\n",
        "\n",
        "Margot has been hearing a lot about deep learning and the wonders it can do. She find tools such as speach-to-text especially fascinating. Her dream is that deaf people could use the sign language and everybody could read in normal letters what they say - a sign-to-text tool. :)\n",
        "\n",
        "Part of the sign language are specific hand signs for indiviual letters of alphabet as shown for example here. This seems like a great start for her project.\n",
        "\n",
        "Margot knows that without data, there is no deep learning. Luckily, she has got some old photos (stored in todo.pth) and she has started annotating these (todo_example.pth). It is, however, a lot of work and she hopes you could help her and use some clever neural network that could do its magic and annotate the data for her.\n",
        "\n",
        "Margot also knows, that her example dataset is very small and therefore perhaps not too helpful. Luckily, she found another dataset with hand signs which is already annotated (old_annotated.pth). It looks somewhat funny but she hopes you will be able to use it.\n",
        "\n",
        "Please, help Margot annotate the todo.pth dataset with the labels corresponding to the alphabet."
      ],
      "metadata": {
        "id": "LDuONTyJkV7X"
      },
      "id": "LDuONTyJkV7X"
    },
    {
      "cell_type": "markdown",
      "source": [
        "# Importing Necessary Modules"
      ],
      "metadata": {
        "id": "bHzwVNAvlmx5"
      },
      "id": "bHzwVNAvlmx5"
    },
    {
      "cell_type": "code",
      "id": "initial_id",
      "metadata": {
        "collapsed": true,
        "id": "initial_id",
        "ExecuteTime": {
          "end_time": "2025-07-11T22:33:14.092085Z",
          "start_time": "2025-07-11T22:33:14.087080Z"
        }
      },
      "source": [
        "# Sign Language Classification Project\n",
        "\n",
        "## Import Required Libraries\n",
        "\n",
        "import torch\n",
        "import torch.nn as nn #NN modules\n",
        "import torch.optim as optim # Optimizers for training\n",
        "from torch.utils.data import DataLoader, TensorDataset #Data Loading -> handles batching and shuffling\n",
        "import torch.nn.functional as F #Functional Operations -> Activation , loss\n",
        "\n",
        "# Computer Vision libraries\n",
        "import torchvision.transforms as transforms #Image preprocessing -> resizing, normalizing,data augmentation\n",
        "import torchvision.models as models #Pre-trained Models -> ResNet\n",
        "import cv2 #Image processing\n",
        "from PIL import Image, ImageEnhance, ImageFilter #Python Imaging library for image operations\n",
        "\n",
        "# Data Metrics\n",
        "import matplotlib.pyplot as plt\n",
        "import numpy as np\n",
        "import pandas as pd\n",
        "import seaborn as sns\n",
        "from sklearn.metrics import accuracy_score, classification_report\n",
        "from collections import Counter #Count class distributions - checking for the data imbalance"
      ],
      "outputs": [],
      "execution_count": null
    },
    {
      "metadata": {
        "id": "76a451cdc073a790",
        "outputId": "9505be98-589f-4240-dce0-3c11d3b764ab",
        "ExecuteTime": {
          "end_time": "2025-07-11T22:33:14.104698Z",
          "start_time": "2025-07-11T22:33:14.102395Z"
        }
      },
      "cell_type": "code",
      "source": [
        "device = torch.device('cuda' if torch.cuda.is_available() else 'cpu')\n",
        "print(f\"Using device: {device}\")"
      ],
      "id": "76a451cdc073a790",
      "outputs": [
        {
          "name": "stdout",
          "output_type": "stream",
          "text": [
            "Using device: cpu\n"
          ]
        }
      ],
      "execution_count": null
    },
    {
      "cell_type": "markdown",
      "source": [
        "# Data Loading"
      ],
      "metadata": {
        "id": "sTAnVJVFmGZZ"
      },
      "id": "sTAnVJVFmGZZ"
    },
    {
      "cell_type": "markdown",
      "source": [
        "Data Loading Function\n",
        "\n",
        "This code loads three types of data files for a machine learning project:\n",
        "\n",
        "1.⁠ ⁠*Training data* (⁠ old_annotated.pth ⁠) - Data that has already been labeled/annotated\n",
        "\n",
        "2.⁠ ⁠*Todo data* (⁠ todo.pth ⁠) - Data that still needs to be labeled\n",
        "\n",
        "3.⁠ ⁠*Example data* (⁠ todo_example.pth ⁠) - Sample annotations to show how labeling should be done (optional)\n",
        "\n",
        "The function loads all three files and prints the number of samples in each one."
      ],
      "metadata": {
        "id": "ON9RqXDqoxI5"
      },
      "id": "ON9RqXDqoxI5"
    },
    {
      "metadata": {
        "id": "d1bbade9e01a2102",
        "ExecuteTime": {
          "end_time": "2025-07-11T22:33:14.113963Z",
          "start_time": "2025-07-11T22:33:14.110675Z"
        }
      },
      "cell_type": "code",
      "source": [
        "def load_datasets():\n",
        "\n",
        "    try:\n",
        "        # Loading annotated training data\n",
        "        train_data = torch.load('old_annotated.pth', weights_only=False)\n",
        "        print(f\"Loaded training data: {len(train_data)} samples\")\n",
        "\n",
        "        # Loading data to be annotated\n",
        "        todo_data = torch.load('todo.pth', weights_only=False)\n",
        "        print(f\"Loaded todo data: {len(todo_data)} samples\")\n",
        "\n",
        "        # Loading example annotations\n",
        "        try:\n",
        "            example_data = torch.load('todo_example.pth', weights_only=False)\n",
        "            print(f\"Loaded example data: {len(example_data)} samples\")\n",
        "            return train_data, todo_data, example_data\n",
        "        except:\n",
        "            print(\"No example data found, proceeding without it\")\n",
        "            return train_data, todo_data, None\n",
        "\n",
        "    except Exception as e:\n",
        "        print(f\"Error loading data: {e}\")\n",
        "        return None, None, None"
      ],
      "id": "d1bbade9e01a2102",
      "outputs": [],
      "execution_count": null
    },
    {
      "cell_type": "markdown",
      "source": [
        "# Data Pre-Processing\n",
        "\n",
        "1. We are enhancing the images from input(hand signs) by cleaning noise and improving visual quality.\n",
        "\n",
        "\n",
        "\n",
        "\n",
        "*Steps :*\n",
        "\n",
        "  •⁠ ⁠Removes noise while keeping edges sharp using OpenCV's bilateral filter\n",
        "\n",
        "  •⁠ ⁠Makes the image more distinct by increasing contrast by 1.5 times\n",
        "\n",
        "  •⁠ ⁠Enhances sharpness by 1.3 times to clarify details and shapes\n",
        "\n",
        "  •⁠ ⁠Applies light blur to reduce processing artifacts\n",
        "\n",
        "\n",
        "  **Bilateral Filter**\n",
        "\n",
        "  The bilateral filter is used because for input:\n",
        "\n",
        "  •⁠ ⁠Preserves sharp edges (hands and fingers as of here)\n",
        "\n",
        "  •⁠ ⁠Maintains finger boundary definition while smoothing skin texture\n",
        "\n",
        "  •⁠ ⁠Doesn't blur important gesture details\n",
        "\n",
        "\n",
        "The combination of de-noising + contrast + sharpness enhancement is  used  as its  effective for sign data visulization.\n",
        "\n",
        "\n",
        "\n",
        "\n"
      ],
      "metadata": {
        "id": "Ovfn_0QTo6pP"
      },
      "id": "Ovfn_0QTo6pP"
    },
    {
      "metadata": {
        "id": "7309f1f020e9b00",
        "ExecuteTime": {
          "end_time": "2025-07-11T22:33:14.135034Z",
          "start_time": "2025-07-11T22:33:14.131029Z"
        }
      },
      "cell_type": "code",
      "source": [
        "def pre_processor_filter_contrast_blur(image):\n",
        "\n",
        "    # Converting to PIL Image if it's a tensor-> ensure consistent formatting for processing\n",
        "    if isinstance(image, torch.Tensor):\n",
        "        if image.dim() == 3 and image.shape[0] in [1, 3]:\n",
        "            image = image.permute(1, 2, 0)\n",
        "        image_np = image.numpy()\n",
        "        if image_np.max() <= 1.0:\n",
        "            image_np = (image_np * 255).astype(np.uint8)\n",
        "        image_pil = Image.fromarray(image_np)\n",
        "    else:\n",
        "        image_pil = image\n",
        "\n",
        "    # Apply denoising using OpenCV\n",
        "    image_cv = np.array(image_pil)\n",
        "\n",
        "    # Bilateral filter for noise reduction while preserving edges\n",
        "    if len(image_cv.shape) == 3:\n",
        "        denoised = cv2.bilateralFilter(image_cv, 9, 75, 75)\n",
        "    else:\n",
        "        denoised = cv2.bilateralFilter(image_cv, 9, 75, 75)\n",
        "\n",
        "    # Convert back to PIL\n",
        "    image_pil = Image.fromarray(denoised)\n",
        "\n",
        "    # Enhance contrast\n",
        "    enhancer = ImageEnhance.Contrast(image_pil)\n",
        "    image_pil = enhancer.enhance(1.5)\n",
        "\n",
        "    # Enhance sharpness\n",
        "    enhancer = ImageEnhance.Sharpness(image_pil)\n",
        "    image_pil = enhancer.enhance(1.3)\n",
        "\n",
        "    # Apply slight blur to reduce noise\n",
        "    image_pil = image_pil.filter(ImageFilter.GaussianBlur(radius=0.5))\n",
        "\n",
        "    return image_pil"
      ],
      "id": "7309f1f020e9b00",
      "outputs": [],
      "execution_count": null
    },
    {
      "cell_type": "markdown",
      "source": [
        "2. We are Pre-Processing the image further with CLAHE and Morphological Operations\n",
        "\n",
        "  *Steps:*\n",
        "\n",
        "  •⁠  Convert the input image to Open CV format\n",
        "\n",
        "  •⁠  Implement the Contrast Limited Adaptive Histogram Equalization(CLAHE)\n",
        "\n",
        "  •⁠  ⁠Morphological Operations - Fills small holes using 2x2 kernel, connecting broken features\n",
        "\n",
        "  •⁠  ⁠Removes small noise particles, still preserves the main image structure\n",
        "\n",
        "  Why CLAHE?\n",
        "  \n",
        "  •⁠ CLAHE divides the image into small tiles and applies histogram equalization locally, which prevents over-amplification, while improving contrast in both dark and bright regions.\n",
        "  \n",
        "  Regular histogram equalization can over-enhance the images"
      ],
      "metadata": {
        "id": "p2lMJi_5pLsX"
      },
      "id": "p2lMJi_5pLsX"
    },
    {
      "metadata": {
        "id": "4041cb4e49f8d81a",
        "ExecuteTime": {
          "end_time": "2025-07-11T22:33:14.144048Z",
          "start_time": "2025-07-11T22:33:14.139472Z"
        }
      },
      "cell_type": "code",
      "source": [
        "def pre_processor_clahe_morph(image):\n",
        "    # Convert images by applying contrast enhancement\n",
        "    if isinstance(image, torch.Tensor):\n",
        "        if image.dim() == 3 and image.shape[0] in [1, 3]:\n",
        "            image = image.permute(1, 2, 0)\n",
        "        image_np = image.numpy()\n",
        "        if image_np.max() <= 1.0:\n",
        "            image_np = (image_np * 255).astype(np.uint8)\n",
        "    else:\n",
        "        image_np = image\n",
        "\n",
        "    # Handle different image formats\n",
        "    if len(image_np.shape) == 3:\n",
        "        if image_np.shape[2] == 3: #Checking if no of channels is 3(RGB) or diff\n",
        "            image_cv = cv2.cvtColor(image_np, cv2.COLOR_RGB2BGR)#Converting RGB to BGR, cause Cv2 works with BGR\n",
        "        else:\n",
        "            image_cv = image_np\n",
        "    else:\n",
        "        image_cv = image_np\n",
        "\n",
        "    # Apply CLAHE (Contrast Limited Adaptive Histogram Equalization)\n",
        "    if len(image_cv.shape) == 3:\n",
        "        # Convert to LAB color space\n",
        "        lab = cv2.cvtColor(image_cv, cv2.COLOR_BGR2LAB)#Converting BGR to LAB\n",
        "        clahe = cv2.createCLAHE(clipLimit=3.0, tileGridSize=(4, 4))\n",
        "        lab[:, :, 0] = clahe.apply(lab[:, :, 0]) #Apply CLAHE only to the Luminous channel\n",
        "        image_cv = cv2.cvtColor(lab, cv2.COLOR_LAB2BGR)\n",
        "    else:\n",
        "        clahe = cv2.createCLAHE(clipLimit=3.0, tileGridSize=(4, 4))\n",
        "        image_cv = clahe.apply(image_cv)\n",
        "\n",
        "    # Morphological operations(image cleaning techniques) to clean up the image\n",
        "    kernel = np.ones((2, 2), np.uint8)#Here, we are creating a 2x2(to keep the details) kernel for subtle cleaning\n",
        "    image_cv = cv2.morphologyEx(image_cv, cv2.MORPH_CLOSE, kernel)#fills small gaps and holes that helps to fill black spots\n",
        "    image_cv = cv2.morphologyEx(image_cv, cv2.MORPH_OPEN, kernel)#removes small noise while maintaining the image structure\n",
        "\n",
        "    # Converting back to PIL\n",
        "    if len(image_cv.shape) == 3:\n",
        "        image_cv = cv2.cvtColor(image_cv, cv2.COLOR_BGR2RGB)\n",
        "\n",
        "    return Image.fromarray(image_cv)"
      ],
      "id": "4041cb4e49f8d81a",
      "outputs": [],
      "execution_count": null
    },
    {
      "cell_type": "markdown",
      "source": [
        "# Data Visualization"
      ],
      "metadata": {
        "id": "cY3grNKj0jhX"
      },
      "id": "cY3grNKj0jhX"
    },
    {
      "cell_type": "markdown",
      "source": [
        "We are doing Data Analysis for the Datasets, and checking the Labels, Number of Samples, Dimensions and plotting graphs for the Visualization"
      ],
      "metadata": {
        "id": "rv9AWIk24HsO"
      },
      "id": "rv9AWIk24HsO"
    },
    {
      "metadata": {
        "id": "a00f6257f1b31c29",
        "ExecuteTime": {
          "end_time": "2025-07-11T22:33:14.150770Z",
          "start_time": "2025-07-11T22:33:14.148572Z"
        }
      },
      "cell_type": "code",
      "source": [
        "def plot_label_distribution(label_counts, title=\"Label Distribution\"):\n",
        "    \"\"\"Plot the distribution of labels as a bar chart.\"\"\"\n",
        "    labels, counts = zip(*sorted(label_counts.items()))\n",
        "    plt.figure(figsize=(8, 4))\n",
        "    sns.barplot(\n",
        "        x=list(labels),\n",
        "        y=list(counts),\n",
        "        hue=list(labels),# Assign x variable to hue\n",
        "        palette=\"Blues_d\",\n",
        "        legend=False# Hide redundant legend\n",
        "    )\n",
        "    plt.title(title)\n",
        "    plt.xlabel(\"Class Label\")\n",
        "    plt.ylabel(\"Count\")\n",
        "    plt.show()"
      ],
      "id": "a00f6257f1b31c29",
      "outputs": [],
      "execution_count": null
    },
    {
      "metadata": {
        "id": "a051678843b6cfcd",
        "ExecuteTime": {
          "end_time": "2025-07-11T22:33:14.157948Z",
          "start_time": "2025-07-11T22:33:14.155356Z"
        }
      },
      "cell_type": "code",
      "source": [
        "# Data exploration and visualization\n",
        "def exploration_data_visual(dataset, title=\"Dataset\"):\n",
        "    \"\"\"Explore and visualize the dataset\"\"\"\n",
        "    print(f\"\\n{title} Analysis:\")\n",
        "    print(f\"Number of samples: {len(dataset)}\")#Here, we are getting number of samples in the dataset\n",
        "\n",
        "    # Extracting all labels from the dataset(both tensor and regular integer labels)\n",
        "    labels = [dataset[i][1].item() if isinstance(dataset[i][1], torch.Tensor) else dataset[i][1] for i in\n",
        "              range(len(dataset))]\n",
        "    label_counts = Counter(labels)#To count the occurrences of each label\n",
        "\n",
        "    print(f\"Unique labels: {sorted(set(labels))}\")#class and categories\n",
        "    print(f\"Label distribution: {dict(label_counts)}\")#how many samples in each class\n",
        "\n",
        "    plot_label_distribution(label_counts, title=f\"{title} Label Distribution\")\n",
        "    # Getting the first image shape\n",
        "    sample_img = dataset[0][0]\n",
        "    print(f\"Image shape: {sample_img.shape}\")#Image dimension(CHW/HWC)\n",
        "\n",
        "    return label_counts"
      ],
      "id": "a051678843b6cfcd",
      "outputs": [],
      "execution_count": null
    },
    {
      "metadata": {
        "id": "6fa1de97e327130b",
        "ExecuteTime": {
          "end_time": "2025-07-11T22:33:14.168Z",
          "start_time": "2025-07-11T22:33:14.164992Z"
        }
      },
      "cell_type": "code",
      "source": [
        "def plot_dataset(dataset, title=\"Dataset\", max_samples=18):\n",
        "\n",
        "    fig = plt.figure(figsize=(15, 10))\n",
        "    columns = 6\n",
        "    rows = 3\n",
        "\n",
        "    plt.suptitle(title, fontsize=16)\n",
        "\n",
        "    for i in range(min(columns * rows, len(dataset), max_samples)):\n",
        "        img, label = dataset[i]\n",
        "\n",
        "        plt.subplot(rows, columns, i + 1)\n",
        "        plt.title(f\"Label: {label.item() if isinstance(label, torch.Tensor) else label}\")#handling both tensor labels and regular python labels\n",
        "\n",
        "        # Handling different image formats\n",
        "        if img.dim() == 3:\n",
        "            if img.shape[0] in [1, 3]:  # CHW format\n",
        "                img_np = img.permute(1, 2, 0).numpy()\n",
        "            else:  # HWC format\n",
        "                img_np = img.numpy()\n",
        "        else:\n",
        "            img_np = img.numpy()\n",
        "\n",
        "        # Normalizing for display\n",
        "        if img_np.max() > 1:\n",
        "            img_np = img_np / 255.0\n",
        "\n",
        "        plt.imshow(img_np.squeeze(), cmap='gray' if len(img_np.shape) == 2 else None)#2D image\n",
        "        plt.axis('off')\n",
        "\n",
        "    plt.tight_layout()\n",
        "    plt.show()"
      ],
      "id": "6fa1de97e327130b",
      "outputs": [],
      "execution_count": null
    },
    {
      "cell_type": "markdown",
      "source": [
        "# Dataset Class\n",
        "\n",
        " •⁠ Our SignLanguageDataset extends to torch.utils.data.Dataset class\n",
        "\n",
        " •⁠ In the Init method, it takes 3 params -> Dataset, Transformation Pipeline & Flag for Quality Enhancement\n",
        "\n",
        " •⁠ The Class calls the 2 image processing functions above\n",
        "\n",
        " •⁠ Returns the enhanced image with the corresponding label"
      ],
      "metadata": {
        "id": "RL8zpmhT1TXp"
      },
      "id": "RL8zpmhT1TXp"
    },
    {
      "metadata": {
        "id": "2ba3091651da4ab",
        "ExecuteTime": {
          "end_time": "2025-07-11T22:33:14.173459Z",
          "start_time": "2025-07-11T22:33:14.170955Z"
        }
      },
      "cell_type": "code",
      "source": [
        "# Dataset Class\n",
        "class SignLanguageDataset(torch.utils.data.Dataset): #Dataset class for Sign Language data\n",
        "\n",
        "\n",
        "    def __init__(self, data, transform=None, enhance_quality=True):#init data, transforms and quality enhancement\n",
        "        self.data = data#Store the data\n",
        "        self.transform = transform#Store transform pipeline\n",
        "        self.enhance_quality = enhance_quality#Flag to enable/disable\n",
        "\n",
        "    def __len__(self):\n",
        "        return len(self.data)#Return the total number of samples\n",
        "\n",
        "    def __getitem__(self, idx):#Retreving a sample from dataset\n",
        "        img, label = self.data[idx]\n",
        "\n",
        "        # Ensure image is in correct format\n",
        "        if img.dim() == 3 and img.shape[0] not in [1, 3]:\n",
        "            img = img.permute(2, 0, 1)  # HWC to CHW\n",
        "\n",
        "\n",
        "        #Calling the above functions(contrast, brightness----)\n",
        "        img_enhanced = pre_processor_clahe_morph(img)\n",
        "        img_enhanced = pre_processor_filter_contrast_blur(img_enhanced)\n",
        "\n",
        "        #Transfroms is being done here (augmentation, normalization)\n",
        "        if self.transform:\n",
        "            img_enhanced = self.transform(img_enhanced)#PIL and tensors\n",
        "\n",
        "        return img_enhanced, label#Return the image and label"
      ],
      "id": "2ba3091651da4ab",
      "outputs": [],
      "execution_count": null
    },
    {
      "cell_type": "markdown",
      "source": [
        "# Image Transformations\n",
        " •⁠ Transformations are applied to img before feeding into a NN, for Data Augmentation(training only) and Standardization(training & validation)\n",
        "\n",
        " •⁠ train_transform is for the Training Data & val_transform is for Validation\n",
        "\n",
        " •⁠ We apply different transformation methods for the data like Resizing, Random Cropping with Scale, Color Jitter etc\n",
        "\n",
        " WHY Augmentation is not used for Validation?\n",
        "\n",
        "  •⁠ If validation data is augmented, it becomes similar to training data, making it harder to detect if the model is memorizing rather than learning generalizable features.\n",
        "  \n",
        "  •⁠ Augmented validation data would introduce noise into this decision-making process\n"
      ],
      "metadata": {
        "id": "BFHrhUeD6-hx"
      },
      "id": "BFHrhUeD6-hx"
    },
    {
      "metadata": {
        "id": "d07d71fce3e7721b",
        "ExecuteTime": {
          "end_time": "2025-07-11T22:33:14.180420Z",
          "start_time": "2025-07-11T22:33:14.177342Z"
        }
      },
      "cell_type": "code",
      "source": [
        "def get_transforms():\n",
        "\n",
        "    train_transform = transforms.Compose([\n",
        "        transforms.Resize((256, 256)),  #Resizing to larger size\n",
        "        transforms.RandomResizedCrop(224, scale=(0.8, 1.0)), #scaling to ensure most of the sign(hands visible)\n",
        "        transforms.RandomRotation(15),#rotation moderate by 15 degree to simulate hand sign\n",
        "        transforms.RandomHorizontalFlip(0.05),  # Minimal flip for hand signs(as sign languages are not symmetric)\n",
        "        transforms.ColorJitter(brightness=0.3, contrast=0.3, saturation=0.2, hue=0.1), #Randomly adjust color prop to simulate diff lightning conditions\n",
        "        transforms.RandomAffine(degrees=5, translate=(0.1, 0.1), scale=(0.9, 1.1)),#geometric transformations like rotation , shifting and zooming for simulating diff camera angles\n",
        "        transforms.RandomPerspective(distortion_scale=0.1, p=0.3),#As its a hand sign and camera image no perpendicular alignment\n",
        "        transforms.ToTensor(),#PIL to tensor\n",
        "        transforms.Normalize(mean=[0.485, 0.456, 0.406], std=[0.229, 0.224, 0.225]),#Learned from ImageNet/prev experience\n",
        "        transforms.RandomErasing(p=0.1, scale=(0.02, 0.1))#Regularization technique to not rely on specific image regions(to prevent overfitting)\n",
        "    ])\n",
        "    #Test Set transforms without augmentation(Standardized Preprocessing)\n",
        "    val_transform = transforms.Compose([\n",
        "        transforms.Resize((256, 256)),\n",
        "        transforms.CenterCrop(224), #Takes centre 224 pixels, no randomness\n",
        "        transforms.ToTensor(),#PIL to Tensor([0,255] -> [0,1])\n",
        "        transforms.Normalize(mean=[0.485, 0.456, 0.406], std=[0.229, 0.224, 0.225])#Always same normalization as training\n",
        "    ])\n",
        "\n",
        "    return train_transform, val_transform"
      ],
      "id": "d07d71fce3e7721b",
      "outputs": [],
      "execution_count": null
    },
    {
      "cell_type": "markdown",
      "source": [
        "# Sign - Language Classifier using ResNet18\n",
        "\n",
        " •⁠ This class is a CNN Model with ResNet18 as feature extractor without pre-trained weights.\n",
        "\n",
        " •⁠ ⁠*ResNet18 backbone* extracts hierarchical features from input images, while the custom classifier maps these features to sign language classes\n",
        "\n",
        " • ⁠*Custom classifier head* replaces the original ResNet18 classifier with a 5-layer deep network: ⁠ 512→256→128→64→25\n",
        "\n",
        " • *Multiple dropout layers* with progressive rates (0.5 → 0.3 → 0.3 → 0.25 → 0.25) prevent overfitting while maintaining information flow\n",
        "\n",
        " • We have implemented Parameter freezing, where only last 20 params remain trainable, allowing fine tuning of high level features, preserving low-lvl feature stability, reducing overfitting risk\n",
        "\n",
        " • Xavier initialization ensures proper weight initialization for new classifier layers, maintaining consistent variance across layers\n",
        "\n",
        "\n",
        " • Early layers remain frozen to preserve visual features like edges/textures"
      ],
      "metadata": {
        "id": "MYrNythCD4zn"
      },
      "id": "MYrNythCD4zn"
    },
    {
      "metadata": {
        "id": "8efeffa576b3ce4f",
        "ExecuteTime": {
          "end_time": "2025-07-11T22:33:14.188681Z",
          "start_time": "2025-07-11T22:33:14.184534Z"
        }
      },
      "cell_type": "code",
      "source": [
        "# Sign Language Classifier\n",
        "class SignLanguageClassifier(nn.Module):\n",
        "    \"\"\"CNN model with ResNet18 backbone we are using for sign lang classification\n",
        "\n",
        "    We use the ResNet18 for extracting the features and add a custom classifier\n",
        "\n",
        "    \"\"\"\n",
        "\n",
        "    def __init__(self, num_classes, dropout_rate=0.5):\n",
        "        super(SignLanguageClassifier, self).__init__()\n",
        "\n",
        "        # Init sign lang classifier\n",
        "        # We take num_classes and dropout_rate as inputs\n",
        "        self.backbone = models.resnet18(weights=None)\n",
        "\n",
        "        # Freeze early layers for preserving low-level features\n",
        "        #Only unfreeze the last 20 params\n",
        "        #Allows fine tuning of higher level features while keeping low-level features stable\n",
        "        for param in list(self.backbone.parameters())[:-20]:  # Unfreeze more layers\n",
        "            param.requires_grad = False\n",
        "\n",
        "        #Replace classifier with multi-layer head\n",
        "        in_features = self.backbone.fc.in_features\n",
        "\n",
        "        #Run classifier with multiple layers\n",
        "        self.backbone.fc = nn.Sequential(\n",
        "\n",
        "            nn.Dropout(dropout_rate), #Dropout layer\n",
        "            nn.Linear(in_features, 512), #First fully connected layer\n",
        "            nn.BatchNorm1d(512), #Batch normalization -> imrove convergence\n",
        "            nn.ReLU(), #RELU activation\n",
        "\n",
        "            nn.Dropout(dropout_rate * 0.6), #Second dropout with lower rate\n",
        "            nn.Linear(512, 256), #Second fully layer : but reduce to 256 features\n",
        "            nn.BatchNorm1d(256), #Second batch normalization layer\n",
        "            nn.ReLU(), #RELU activation\n",
        "\n",
        "            nn.Dropout(dropout_rate * 0.6), #Third dropout with lower rate\n",
        "            nn.Linear(256, 128), #Third fully layer : but reduce to 128 features\n",
        "            nn.BatchNorm1d(128), #Third batch normalization layer\n",
        "            nn.ReLU(), #RELU activation\n",
        "\n",
        "            nn.Dropout(dropout_rate * 0.5), #Fourth dropout with lower rate\n",
        "            nn.Linear(128, 64), #Fourth fully layer : but reduce to 64 features\n",
        "            nn.BatchNorm1d(64), #Fourth batch normalization layer\n",
        "            nn.ReLU(), #RELU activation\n",
        "\n",
        "\n",
        "            nn.Dropout(dropout_rate * 0.5), #Third Dropout\n",
        "            nn.Linear(64, num_classes) #Final Output Layer\n",
        "        )\n",
        "\n",
        "        # Initialize weights of new classifier layers\n",
        "        self._initialize_weights()\n",
        "\n",
        "    def _initialize_weights(self):\n",
        "        \"\"\"\n",
        "\n",
        "        Method for init weights to the classifier using Xavier initialization\n",
        "\n",
        "        Helps in keeping variance of activations and gradients same(roughly) across layers\n",
        "        :return:\n",
        "        \"\"\"\n",
        "        for m in self.backbone.fc.modules():\n",
        "            if isinstance(m, nn.Linear):\n",
        "                nn.init.xavier_uniform_(m.weight)\n",
        "                if m.bias is not None:\n",
        "                    nn.init.constant_(m.bias, 0)\n",
        "\n",
        "    def forward(self, x): #Forward pass through network\n",
        "        return self.backbone(x)"
      ],
      "id": "8efeffa576b3ce4f",
      "outputs": [],
      "execution_count": null
    },
    {
      "cell_type": "markdown",
      "source": [
        "# TRAINING THE MODEL\n",
        "\n",
        " •⁠ Here, we are training our Model. We start with applying Label Smoothing -> Cross Entropy Loss. We use 0.1 smoothing factor for removing overconfidence.\n",
        "\n",
        " • We use the AdamW Optimizer, which is a type of L2 Regularization. AdamW implements weight decay directly on the parameters, separate from gradient updates.\n",
        "\n",
        " • We use Learning Rate Scheduling to give diff learning rate to different parts of the model training[Cosine Annealing with Warm Restarts]. This method  adjusts the learning rate following a cosine curve. Warm restarts add a \"restart\" mechanism to cosine annealing. Instead of continuously decreasing the learning rate, it periodically \"restarts\" back to a higher value\n",
        "\n",
        " • We try to prevent exploding gradients by gradient clipping approach. Max norm = 1\n",
        "\n",
        "\n",
        " MODEL TRAINING\n",
        "\n",
        " Model Setup → Forward Pass → Loss Calculation → Backward Pass → Gradient Clipping → Parameter Update\n",
        "\n",
        " VALIDATION PHASE\n",
        "\n",
        " Model Setup → Gradient Disabled → Forward Pass Only → Metrics Calculation\n",
        "\n",
        " We calculate training loss, val loss, training accuracy, val accuracy"
      ],
      "metadata": {
        "id": "U4RNL7vHmJFO"
      },
      "id": "U4RNL7vHmJFO"
    },
    {
      "metadata": {
        "id": "af79922279961cc",
        "ExecuteTime": {
          "end_time": "2025-07-11T22:33:14.198913Z",
          "start_time": "2025-07-11T22:33:14.192621Z"
        }
      },
      "cell_type": "code",
      "source": [
        "#  Training function\n",
        "def train_model(model, train_loader, val_loader, num_epochs=30,\n",
        "                         learning_rate=0.001, patience=10):\n",
        "    \"\"\"Train the model with  techniques -> differential learning rate / label smoothing / gradient clipping and early stopping\"\"\"\n",
        "\n",
        "    #Loss function with label smoothing to reduce overconfidence and to improve generalization\n",
        "\n",
        "    criterion = nn.CrossEntropyLoss(label_smoothing=0.1)\n",
        "\n",
        "    # Use different learning rates for different parts of the model / Crucial for transfer learning\n",
        "    optimizer = optim.AdamW([\n",
        "        {'params': model.backbone.fc.parameters(), 'lr': learning_rate}, #higher learning rate for new classifier head\n",
        "        {'params': [p for n, p in model.backbone.named_parameters() if 'fc' not in n], 'lr': learning_rate * 0.1} #lower learning rate\n",
        "    ], weight_decay=1e-4) #L2 regularization to prevent overfitting\n",
        "\n",
        "\n",
        "    scheduler = optim.lr_scheduler.CosineAnnealingWarmRestarts(optimizer, T_0=10, T_mult=2)\n",
        "\n",
        "    #init all variables\n",
        "    train_losses = []\n",
        "    val_losses = []\n",
        "    train_accuracies = []\n",
        "    val_accuracies = []\n",
        "\n",
        "    best_val_acc = 0.0\n",
        "    best_model_state = None\n",
        "    patience_counter = 0\n",
        "\n",
        "    #For Each Epoch\n",
        "    for epoch in range(num_epochs):\n",
        "        # Training phase\n",
        "        model.train() #Training mode\n",
        "        train_loss = 0.0\n",
        "        train_correct = 0\n",
        "        train_total = 0\n",
        "\n",
        "        #Iterating through training batches\n",
        "        for batch_idx, (images, labels) in enumerate(train_loader):\n",
        "            images, labels = images.to(device), labels.to(device)\n",
        "\n",
        "            optimizer.zero_grad()#Zero grad from prev ieration\n",
        "            outputs = model(images) #Compute model predictions\n",
        "            loss = criterion(outputs, labels) #Compute loss btw pred and true labels\n",
        "            loss.backward() #backward pass\n",
        "\n",
        "            # Gradient clipping for avoiding exploding gradients\n",
        "            torch.nn.utils.clip_grad_norm_(model.parameters(), max_norm=1.0)\n",
        "\n",
        "            optimizer.step()#update step\n",
        "\n",
        "            train_loss += loss.item()\n",
        "            _, predicted = torch.max(outputs.data, 1)\n",
        "            train_total += labels.size(0)\n",
        "            train_correct += (predicted == labels).sum().item()\n",
        "\n",
        "        # Validation phase\n",
        "        model.eval()#Eval mode\n",
        "        val_loss = 0.0#Init params\n",
        "        val_correct = 0\n",
        "        val_total = 0\n",
        "\n",
        "        #Disable gradient computation for validation\n",
        "        with torch.no_grad():\n",
        "            for images, labels in val_loader: #Forward pass only\n",
        "                images, labels = images.to(device), labels.to(device)\n",
        "                outputs = model(images)\n",
        "                loss = criterion(outputs, labels)\n",
        "\n",
        "                val_loss += loss.item()\n",
        "                _, predicted = torch.max(outputs.data, 1)\n",
        "                val_total += labels.size(0)\n",
        "                val_correct += (predicted == labels).sum().item()\n",
        "\n",
        "        # Calculate accuracy\n",
        "        train_acc = 100 * train_correct / train_total\n",
        "        val_acc = 100 * val_correct / val_total\n",
        "\n",
        "        train_losses.append(train_loss / len(train_loader))\n",
        "        val_losses.append(val_loss / len(val_loader))\n",
        "        train_accuracies.append(train_acc)\n",
        "        val_accuracies.append(val_acc)\n",
        "\n",
        "        # Save best model and early stopping\n",
        "        if val_acc > best_val_acc:\n",
        "            best_val_acc = val_acc\n",
        "            best_model_state = model.state_dict().copy()\n",
        "            patience_counter = 0\n",
        "        else:\n",
        "            patience_counter += 1\n",
        "\n",
        "        scheduler.step()#updating the learning rate\n",
        "\n",
        "        print(f'Epoch [{epoch + 1}/{num_epochs}]')\n",
        "        print(f'Train Loss: {train_losses[-1]:.4f}, Train Acc: {train_acc:.2f}%')\n",
        "        print(f'Val Loss: {val_losses[-1]:.4f}, Val Acc: {val_acc:.2f}%')\n",
        "        print(f'LR: {optimizer.param_groups[0][\"lr\"]:.6f}')\n",
        "        print('-' * 60)\n",
        "\n",
        "        # Early stopping\n",
        "        if patience_counter >= patience:\n",
        "            print(f\"Early stopping at epoch {epoch + 1}\")\n",
        "            break\n",
        "\n",
        "    # Loading the best model\n",
        "    model.load_state_dict(best_model_state)\n",
        "    return model, train_losses, val_losses, train_accuracies, val_accuracies\n",
        "\n",
        "\n"
      ],
      "id": "af79922279961cc",
      "outputs": [],
      "execution_count": null
    },
    {
      "cell_type": "markdown",
      "source": [
        "PLOTTING THE RESULTS\n",
        "--------"
      ],
      "metadata": {
        "id": "kRD-mhQKzrHU"
      },
      "id": "kRD-mhQKzrHU"
    },
    {
      "metadata": {
        "id": "b961b7ef9215a7bf",
        "ExecuteTime": {
          "end_time": "2025-07-11T22:33:14.205670Z",
          "start_time": "2025-07-11T22:33:14.202841Z"
        }
      },
      "cell_type": "code",
      "source": [
        "def plot_training_history(train_losses, val_losses, train_accuracies, val_accuracies):\n",
        "    \"\"\"Plot training history\"\"\"\n",
        "    fig, (ax1, ax2) = plt.subplots(1, 2, figsize=(15, 5))\n",
        "\n",
        "    # Plotting the  losses\n",
        "    ax1.plot(train_losses, label='Train Loss', linewidth=2)\n",
        "    ax1.plot(val_losses, label='Validation Loss', linewidth=2)\n",
        "    ax1.set_xlabel('Epoch')\n",
        "    ax1.set_ylabel('Loss')\n",
        "    ax1.set_title('Training and Validation Loss')\n",
        "    ax1.legend()\n",
        "    ax1.grid(True, alpha=0.3)\n",
        "\n",
        "    # Plotting the accuracies\n",
        "    ax2.plot(train_accuracies, label='Train Accuracy', linewidth=2)\n",
        "    ax2.plot(val_accuracies, label='Validation Accuracy', linewidth=2)\n",
        "    ax2.set_xlabel('Epoch')\n",
        "    ax2.set_ylabel('Accuracy (%)')\n",
        "    ax2.set_title('Training and Validation Accuracy')\n",
        "    ax2.legend()\n",
        "    ax2.grid(True, alpha=0.3)\n",
        "\n",
        "    plt.tight_layout()\n",
        "    plt.show()"
      ],
      "id": "b961b7ef9215a7bf",
      "outputs": [],
      "execution_count": null
    },
    {
      "cell_type": "markdown",
      "source": [
        "# ALPHABET MAPPING\n",
        "\n",
        "We are mapping each letter in the Alphabet to a Label from 0-25"
      ],
      "metadata": {
        "id": "JwAa0S0OzxAK"
      },
      "id": "JwAa0S0OzxAK"
    },
    {
      "metadata": {
        "id": "f83e10e9b9a268c3",
        "ExecuteTime": {
          "end_time": "2025-07-11T22:33:14.211953Z",
          "start_time": "2025-07-11T22:33:14.209842Z"
        }
      },
      "cell_type": "code",
      "source": [
        "def create_alphabet_mapping(unique_labels):\n",
        "    \"\"\"Creating a function that maps from class indices to alphabet letters\"\"\"\n",
        "    alphabet = 'ABCDEFGHIJKLMNOPQRSTUVWXYZ'\n",
        "    sorted_labels = sorted(unique_labels)\n",
        "\n",
        "    label_to_letter = {}#init\n",
        "    letter_to_label = {}\n",
        "#Create bidirectional mapping between dataset labels and Alpha letters\n",
        "    for i, label in enumerate(sorted_labels):\n",
        "        if i < len(alphabet):#Create mappings till alpha length\n",
        "            letter = alphabet[i]\n",
        "            label_to_letter[label] = letter#datatset label -> alpha letter\n",
        "            letter_to_label[letter] = label#reverse mapping\n",
        "\n",
        "    return label_to_letter, letter_to_label#return both mapping"
      ],
      "id": "f83e10e9b9a268c3",
      "outputs": [],
      "execution_count": null
    },
    {
      "cell_type": "markdown",
      "source": [
        "# TEST TIME AUGMENTATION\n",
        "\n",
        "• We use the below function for predicting the labels for the todo.pth Dataset.\n",
        "Instead of just taking the image directly, we create multiple augmented versions of the same image. But why?\n",
        "\n",
        "• The image we are considering are gestures, single predictions may be wrong, so by taking this method, we are creating 5 versions of this input image, and predicting the labels individually.\n",
        "\n",
        "• We have implemented a voting mechanism here, which is based on the confidence score of each sample.\n",
        "\n",
        "• Higher confidence label will be the final predicted label"
      ],
      "metadata": {
        "id": "fOUb7sNy04ev"
      },
      "id": "fOUb7sNy04ev"
    },
    {
      "cell_type": "code",
      "source": [
        "#Prediction with test-time augmentation\n",
        "def tta_val(model, dataset, batch_size=32, tta_steps=5):\n",
        "    \"\"\"Predicting the labels with test-time augmentation\" as its gesture data\"\"\"\n",
        "    model.eval() # model ->  Model in evaluation mode\n",
        "\n",
        "    # Creating multiple different augmentation transforms\n",
        "    # That each transform will create a slightly different version of the same image\n",
        "\n",
        "    tta_transforms = []\n",
        "    for i in range(tta_steps):\n",
        "        tta_transform = transforms.Compose([\n",
        "            transforms.Resize((256, 256)),\n",
        "            transforms.RandomCrop(224),\n",
        "            transforms.RandomRotation(5),\n",
        "            transforms.ToTensor(),#PIL to tensor\n",
        "            transforms.Normalize(mean=[0.485, 0.456, 0.406], std=[0.229, 0.224, 0.225])\n",
        "        ])\n",
        "        tta_transforms.append(tta_transform)\n",
        "\n",
        "    all_predictions = []#List of prediction one per TTA\n",
        "    all_confidences = []\n",
        "\n",
        "    for tta_idx, tta_transform in enumerate(tta_transforms):\n",
        "        print(f\"TTA step {tta_idx + 1}/{tta_steps}\")\n",
        "\n",
        "        # Create dataset with current transformations\n",
        "        tta_dataset = SignLanguageDataset(dataset.data, transform=tta_transform, enhance_quality=True)\n",
        "        dataloader = DataLoader(tta_dataset, batch_size=batch_size, shuffle=False)#No shuffle as its a validation\n",
        "\n",
        "        predictions = []\n",
        "        confidences = []\n",
        "    #Disable gradient computation as its forward ; for inference(prediction!!!)\n",
        "        with torch.no_grad():\n",
        "            for images, _ in dataloader:#Process image in batches\n",
        "                images = images.to(device)\n",
        "                outputs = model(images)#Forward pass through model\n",
        "                probs = F.softmax(outputs, dim=1)\n",
        "                max_probs, predicted = torch.max(probs, 1)# To get the highest probability class and value\n",
        "            #Storing the prediction and confidences for this batch\n",
        "                predictions.extend(predicted.cpu().numpy())\n",
        "                confidences.extend(max_probs.cpu().numpy())\n",
        "     #Store results from this TTA round\n",
        "        all_predictions.append(predictions)#All predictions for this augmentation\n",
        "        all_confidences.append(confidences)\n",
        "\n",
        "    #Predictions and confidence using weighted voting\n",
        "    final_predictions = []\n",
        "    final_confidences = []\n",
        "#Process each image's predictions across all TTA steps\n",
        "    for i in range(len(all_predictions[0])):\n",
        "        # Collect predictions for the particular sample(image) across all TTA steps\n",
        "        sample_predictions = [pred[i] for pred in all_predictions]\n",
        "        sample_confidences = [conf[i] for conf in all_confidences]\n",
        "\n",
        "        # Use weighted voting(each prediction vote is weighted by its confidence)\n",
        "        pred_counts = Counter()#Dict to accumulate weighted votes\n",
        "        for pred, conf in zip(sample_predictions, sample_confidences):\n",
        "            pred_counts[pred] += conf #Adding confidence as weight to this class prediction\n",
        "\n",
        "        final_pred = pred_counts.most_common(1)[0][0]# Class with highest weight\n",
        "        final_conf = pred_counts[final_pred] / len(sample_predictions)\n",
        "     #Store Final results\n",
        "        final_predictions.append(final_pred)\n",
        "        final_confidences.append(final_conf)\n",
        "\n",
        "    return final_predictions, final_confidences"
      ],
      "metadata": {
        "id": "E6wby4f60wPu",
        "ExecuteTime": {
          "end_time": "2025-07-11T22:33:14.220670Z",
          "start_time": "2025-07-11T22:33:14.215856Z"
        }
      },
      "id": "E6wby4f60wPu",
      "outputs": [],
      "execution_count": null
    },
    {
      "cell_type": "markdown",
      "source": [
        "Saving the MODEL predictions\n",
        "------------------------------"
      ],
      "metadata": {
        "id": "xllt4TD90TWH"
      },
      "id": "xllt4TD90TWH"
    },
    {
      "metadata": {
        "id": "113e74c1a971fa53",
        "ExecuteTime": {
          "end_time": "2025-07-11T22:33:14.226744Z",
          "start_time": "2025-07-11T22:33:14.224597Z"
        }
      },
      "cell_type": "code",
      "source": [
        "def save_predictions_csv(predictions, filename='predictions.csv'):\n",
        "    \"\"\"Save predictions to CSV file in the required format\"\"\"\n",
        "    df = pd.DataFrame({\n",
        "        'ID': range(len(predictions)),\n",
        "        'Labels': predictions\n",
        "    })\n",
        "    df.to_csv(filename, index=False)\n",
        "    print(f\"Predictions saved to {filename}\")"
      ],
      "id": "113e74c1a971fa53",
      "outputs": [],
      "execution_count": null
    },
    {
      "cell_type": "markdown",
      "source": [
        "Main function to call all necessary functions and create the model\n",
        "------------------------------------------------------------------"
      ],
      "metadata": {
        "id": "8HqMVilT0cYg"
      },
      "id": "8HqMVilT0cYg"
    },
    {
      "metadata": {
        "colab": {
          "base_uri": "https://localhost:8080/",
          "height": 245
        },
        "id": "f059c763a6424bd7",
        "outputId": "1578574c-49a0-444a-a294-36d151e34843",
        "ExecuteTime": {
          "end_time": "2025-07-11T22:33:14.316749Z",
          "start_time": "2025-07-11T22:33:14.230366Z"
        }
      },
      "cell_type": "code",
      "source": [
        "\n",
        "\"\"\"Main function to execute the entire sign language classification\"\"\"\n",
        "print(\"===  Margot's Sign Language Classifier ===\\n\")\n",
        "\n",
        "# Loading the datasets\n",
        "train_data, todo_data, example_data = load_datasets()\n",
        "\n",
        "if train_data is None or todo_data is None:\n",
        "    print(\"Error: Could not load required datasets\")\n",
        "\n",
        "\n",
        "# Combine training data with example data (todo_example.pth)\n",
        "if example_data:\n",
        "    print(\"Combining training data with example data...\")\n",
        "    combined_train_data = train_data + example_data\n",
        "    print(f\"Combined training data: {len(combined_train_data)} samples\")\n",
        "else:\n",
        "    combined_train_data = train_data\n"
      ],
      "id": "f059c763a6424bd7",
      "outputs": [
        {
          "name": "stdout",
          "output_type": "stream",
          "text": [
            "===  Margot's Sign Language Classifier ===\n",
            "\n",
            "Loaded training data: 27455 samples\n",
            "Loaded todo data: 7029 samples\n",
            "Loaded example data: 143 samples\n",
            "Combining training data with example data...\n",
            "Combined training data: 27598 samples\n"
          ]
        }
      ],
      "execution_count": null
    },
    {
      "cell_type": "markdown",
      "source": [
        "Dataset Preparation and Data Loader Configuration\n",
        "------"
      ],
      "metadata": {
        "id": "IQ1cWmMpAO-Y"
      },
      "id": "IQ1cWmMpAO-Y"
    },
    {
      "cell_type": "code",
      "source": [
        "# Analyzing the combined training datasets for data distribution\n",
        "print(\"\\nExploring datasets...\")\n",
        "train_labels = exploration_data_visual(combined_train_data, \"Combined Training Dataset\")\n",
        "plot_label_distribution\n",
        "if todo_data:#Visulaize samples\n",
        "    plot_dataset(todo_data, \"TODO Data Samples (to be labeled)\")\n",
        "\n",
        "#Extracting the unique labels and num_classes\n",
        "unique_labels = list(train_labels.keys())\n",
        "max_label = max(unique_labels)\n",
        "num_classes = max_label + 1#labels starting from 0 so +1\n",
        "print(f\"\\nUnique labels: {unique_labels}\")\n",
        "print(f\"Max label: {max_label}\")\n",
        "print(f\"Number of classes: {num_classes}\")\n",
        "# Here we are creating a  bidirectional mapping num labels to  alphabet letters\n",
        "label_to_letter, letter_to_label = create_alphabet_mapping(unique_labels)\n",
        "print(f\"Label to Letter mapping: {label_to_letter}\")\n",
        "\n",
        "# Get transforms for training and validation\n",
        "train_transform, val_transform = get_transforms()\n",
        "\n",
        "#Creating the datasets with transforms\n",
        "train_dataset = SignLanguageDataset(combined_train_data, transform=train_transform, enhance_quality=True)\n",
        "todo_dataset = SignLanguageDataset(todo_data, transform=val_transform, enhance_quality=True)\n",
        "\n",
        "# Splitting the  training data for validation\n",
        "train_size = int(0.85 * len(train_dataset))  # Using more data for training to prevent overfitting and maximize learning\n",
        "val_size = len(train_dataset) - train_size\n",
        "train_subset, val_subset = torch.utils.data.random_split(\n",
        "    train_dataset, [train_size, val_size],\n",
        "    generator=torch.Generator().manual_seed(42)  # For reproducibility of the same split every run\n",
        ")\n",
        "\n",
        "# Creating data loaders\n",
        "train_loader = DataLoader(train_subset, batch_size=16, shuffle=True,\n",
        "                          num_workers=0, pin_memory=False) #Shuffling for better training\n",
        "val_loader = DataLoader(val_subset, batch_size=16, shuffle=False,\n",
        "                        num_workers=0, pin_memory=False)#No shuffle as validation should be consistent\n",
        "\n",
        "print(f\"\\nTraining samples: {len(train_subset)}\")\n",
        "print(f\"Validation samples: {len(val_subset)}\")\n",
        "print(f\"TODO samples to predict: {len(todo_dataset)}\")"
      ],
      "metadata": {
        "id": "r0iZNtFroNlX",
        "ExecuteTime": {
          "end_time": "2025-07-11T22:33:15.200032Z",
          "start_time": "2025-07-11T22:33:14.321427Z"
        },
        "outputId": "16a95766-8649-49c2-d3e0-07eb1f4d7b9b"
      },
      "id": "r0iZNtFroNlX",
      "outputs": [
        {
          "name": "stdout",
          "output_type": "stream",
          "text": [
            "\n",
            "Exploring datasets...\n",
            "\n",
            "Combined Training Dataset Analysis:\n",
            "Number of samples: 27598\n",
            "Unique labels: [0, 1, 2, 3, 4, 5, 6, 7, 8, 10, 11, 12, 13, 14, 15, 16, 17, 18, 19, 20, 21, 22, 23, 24]\n",
            "Label distribution: {3: 1202, 6: 1094, 2: 1155, 13: 1155, 16: 1283, 8: 1171, 22: 1230, 18: 1202, 10: 1120, 20: 1166, 17: 1297, 19: 1190, 21: 1092, 23: 1169, 24: 1121, 1: 1014, 12: 1060, 11: 1244, 15: 1098, 4: 968, 0: 1132, 5: 1209, 7: 1024, 14: 1202}\n"
          ]
        },
        {
          "data": {
            "text/plain": [
              "<Figure size 800x400 with 1 Axes>"
            ],
            "image/png": "[encoded data removed]"
          },
          "metadata": {},
          "output_type": "display_data"
        },
        {
          "name": "stdout",
          "output_type": "stream",
          "text": [
            "Image shape: torch.Size([3, 28, 28])\n"
          ]
        },
        {
          "data": {
            "text/plain": [
              "<Figure size 1500x1000 with 18 Axes>"
            ],
            "image/png": "[encoded data removed]"
          },
          "metadata": {},
          "output_type": "display_data"
        },
        {
          "name": "stdout",
          "output_type": "stream",
          "text": [
            "\n",
            "Unique labels: [3, 6, 2, 13, 16, 8, 22, 18, 10, 20, 17, 19, 21, 23, 24, 1, 12, 11, 15, 4, 0, 5, 7, 14]\n",
            "Max label: 24\n",
            "Number of classes: 25\n",
            "Label to Letter mapping: {0: 'A', 1: 'B', 2: 'C', 3: 'D', 4: 'E', 5: 'F', 6: 'G', 7: 'H', 8: 'I', 10: 'J', 11: 'K', 12: 'L', 13: 'M', 14: 'N', 15: 'O', 16: 'P', 17: 'Q', 18: 'R', 19: 'S', 20: 'T', 21: 'U', 22: 'V', 23: 'W', 24: 'X'}\n",
            "\n",
            "Training samples: 23458\n",
            "Validation samples: 4140\n",
            "TODO samples to predict: 7029\n"
          ]
        }
      ],
      "execution_count": null
    },
    {
      "cell_type": "markdown",
      "source": [
        "RESNET18 MODEL\n",
        "----"
      ],
      "metadata": {
        "id": "nwyIajDuARsl"
      },
      "id": "nwyIajDuARsl"
    },
    {
      "cell_type": "code",
      "source": [
        "# Init the  model\n",
        "model = SignLanguageClassifier(num_classes, dropout_rate=0.5).to(device)\n",
        "print(f\"\\nModel initialized with {num_classes} classes\")\n",
        "\n",
        "# Counting and Displaying the  parameters\n",
        "total_params = sum(p.numel() for p in model.parameters())\n",
        "trainable_params = sum(p.numel() for p in model.parameters() if p.requires_grad)\n",
        "print(f\"Total parameters: {total_params:,}\")\n",
        "print(f\"Trainable parameters: {trainable_params:,}\")\n",
        "\n",
        "# Training the  mode\n",
        "print(\"\\nStarting training...\")\n",
        "trained_model, train_losses, val_losses, train_accs, val_accs = train_model(\n",
        "    model, train_loader, val_loader, num_epochs=35, learning_rate=0.001, patience=15\n",
        ")\n",
        "\n",
        "\n",
        "plot_training_history(train_losses, val_losses, train_accs, val_accs)\n",
        "\n",
        "# Make predictions on data using test-time augmentation to get multiple augmented versions of the same image\n",
        "#Reduce errors and capture gesture correctly\n",
        "print(\"\\nMaking predictions with test-time augmentation...\")\n",
        "predictions, confidences = tta_val(trained_model, todo_dataset, batch_size=16, tta_steps=3)\n",
        "\n",
        "# Converting predictions to letters\n",
        "predicted_letters = [label_to_letter.get(pred, f\"Class_{pred}\") for pred in predictions]\n",
        "\n",
        "\n",
        "print(f\"\\nPrediction Summary:\")\n",
        "print(f\"Total predictions: {len(predictions)}\")\n",
        "#Distribution of predicted letters\n",
        "prediction_counts = Counter(predicted_letters)\n",
        "print(f\"Predicted letter distribution: {dict(prediction_counts)}\")\n",
        "\n",
        "#Confidence scores\n",
        "print(f\"\\nSample predictions (first 15):\")\n",
        "for i in range(min(15, len(predictions))):\n",
        "    letter = predicted_letters[i]\n",
        "    conf = confidences[i]\n",
        "    print(f\"Image {i}: Predicted '{letter}' (confidence: {conf:.3f})\")\n",
        "\n",
        "#Saving Predictions\n",
        "save_predictions_csv(predictions, 'predictions.csv')\n",
        "\n",
        "# Saving the model\n",
        "torch.save(trained_model.state_dict(), 'sign_language_model.pth')\n",
        "\n",
        "# Creating and saving the annotated dataset\n",
        "annotated_todo = []\n",
        "for i, (img, _) in enumerate(todo_data):\n",
        "    annotated_todo.append((img, predictions[i]))\n",
        "\n",
        "torch.save(annotated_todo, 'todo_annotated.pth')\n",
        "print(\"Annotated TODO dataset saved as 'todo_annotated.pth'\")\n",
        "\n",
        "\n",
        "print(\"\\n=== Task Complete! ===\")\n",
        "print(\"Margot's TODO dataset has been successfully annotated !\")\n",
        "print(\"Generated files:\")\n",
        "print(\"- predictions.csv: Required submission format (ID, Labels)\")\n",
        "print(f\"\\nFinal validation accuracy: {max(val_accs):.2f}%\")"
      ],
      "metadata": {
        "id": "5YMj2KZ2oiA6",
        "ExecuteTime": {
          "end_time": "2025-07-12T04:35:50.784099Z",
          "start_time": "2025-07-11T22:33:15.209995Z"
        },
        "outputId": "7d548d66-7db3-471f-84ca-e437966c4090"
      },
      "id": "5YMj2KZ2oiA6",
      "outputs": [
        {
          "name": "stdout",
          "output_type": "stream",
          "text": [
            "\n",
            "Model initialized with 25 classes\n",
            "Total parameters: 11,615,193\n",
            "Trainable parameters: 9,422,745\n",
            "\n",
            "Starting training...\n",
            "Epoch [1/35]\n",
            "Train Loss: 2.8319, Train Acc: 11.66%\n",
            "Val Loss: 2.5966, Val Acc: 14.88%\n",
            "LR: 0.000976\n",
            "------------------------------------------------------------\n",
            "Epoch [2/35]\n",
            "Train Loss: 2.6117, Train Acc: 17.60%\n",
            "Val Loss: 2.4415, Val Acc: 23.19%\n",
            "LR: 0.000905\n",
            "------------------------------------------------------------\n",
            "Epoch [3/35]\n",
            "Train Loss: 2.4827, Train Acc: 22.97%\n",
            "Val Loss: 2.2791, Val Acc: 29.40%\n",
            "LR: 0.000794\n",
            "------------------------------------------------------------\n",
            "Epoch [4/35]\n",
            "Train Loss: 2.3558, Train Acc: 28.40%\n",
            "Val Loss: 2.0966, Val Acc: 39.11%\n",
            "LR: 0.000655\n",
            "------------------------------------------------------------\n",
            "Epoch [5/35]\n",
            "Train Loss: 2.2053, Train Acc: 35.93%\n",
            "Val Loss: 1.9325, Val Acc: 45.92%\n",
            "LR: 0.000500\n",
            "------------------------------------------------------------\n",
            "Epoch [6/35]\n",
            "Train Loss: 2.0845, Train Acc: 40.86%\n",
            "Val Loss: 1.8329, Val Acc: 50.46%\n",
            "LR: 0.000345\n",
            "------------------------------------------------------------\n",
            "Epoch [7/35]\n",
            "Train Loss: 2.0208, Train Acc: 43.94%\n",
            "Val Loss: 1.7389, Val Acc: 54.01%\n",
            "LR: 0.000206\n",
            "------------------------------------------------------------\n",
            "Epoch [8/35]\n",
            "Train Loss: 1.9558, Train Acc: 46.50%\n",
            "Val Loss: 1.7078, Val Acc: 56.23%\n",
            "LR: 0.000095\n",
            "------------------------------------------------------------\n",
            "Epoch [9/35]\n",
            "Train Loss: 1.9124, Train Acc: 47.92%\n",
            "Val Loss: 1.6727, Val Acc: 58.33%\n",
            "LR: 0.000024\n",
            "------------------------------------------------------------\n",
            "Epoch [10/35]\n",
            "Train Loss: 1.9024, Train Acc: 49.44%\n",
            "Val Loss: 1.6642, Val Acc: 57.56%\n",
            "LR: 0.001000\n",
            "------------------------------------------------------------\n",
            "Epoch [11/35]\n",
            "Train Loss: 1.9688, Train Acc: 46.45%\n",
            "Val Loss: 1.6677, Val Acc: 57.03%\n",
            "LR: 0.000994\n",
            "------------------------------------------------------------\n",
            "Epoch [12/35]\n",
            "Train Loss: 1.8960, Train Acc: 50.45%\n",
            "Val Loss: 1.6075, Val Acc: 59.40%\n",
            "LR: 0.000976\n",
            "------------------------------------------------------------\n",
            "Epoch [13/35]\n",
            "Train Loss: 1.8268, Train Acc: 53.95%\n",
            "Val Loss: 1.5023, Val Acc: 64.32%\n",
            "LR: 0.000946\n",
            "------------------------------------------------------------\n",
            "Epoch [14/35]\n",
            "Train Loss: 1.7413, Train Acc: 58.38%\n",
            "Val Loss: 1.4175, Val Acc: 70.92%\n",
            "LR: 0.000905\n",
            "------------------------------------------------------------\n",
            "Epoch [15/35]\n",
            "Train Loss: 1.6746, Train Acc: 61.94%\n",
            "Val Loss: 1.3534, Val Acc: 72.29%\n",
            "LR: 0.000854\n",
            "------------------------------------------------------------\n",
            "Epoch [16/35]\n",
            "Train Loss: 1.6163, Train Acc: 64.38%\n",
            "Val Loss: 1.2902, Val Acc: 75.27%\n",
            "LR: 0.000794\n",
            "------------------------------------------------------------\n",
            "Epoch [17/35]\n",
            "Train Loss: 1.5517, Train Acc: 67.14%\n",
            "Val Loss: 1.2655, Val Acc: 75.41%\n",
            "LR: 0.000727\n",
            "------------------------------------------------------------\n",
            "Epoch [18/35]\n",
            "Train Loss: 1.5062, Train Acc: 69.10%\n",
            "Val Loss: 1.2029, Val Acc: 78.16%\n",
            "LR: 0.000655\n",
            "------------------------------------------------------------\n",
            "Epoch [19/35]\n",
            "Train Loss: 1.4679, Train Acc: 70.53%\n",
            "Val Loss: 1.1602, Val Acc: 80.00%\n",
            "LR: 0.000578\n",
            "------------------------------------------------------------\n",
            "Epoch [20/35]\n",
            "Train Loss: 1.4283, Train Acc: 72.24%\n",
            "Val Loss: 1.1129, Val Acc: 82.54%\n",
            "LR: 0.000500\n",
            "------------------------------------------------------------\n",
            "Epoch [21/35]\n",
            "Train Loss: 1.4010, Train Acc: 73.42%\n",
            "Val Loss: 1.1139, Val Acc: 81.40%\n",
            "LR: 0.000422\n",
            "------------------------------------------------------------\n",
            "Epoch [22/35]\n",
            "Train Loss: 1.3589, Train Acc: 75.05%\n",
            "Val Loss: 1.0893, Val Acc: 83.00%\n",
            "LR: 0.000345\n",
            "------------------------------------------------------------\n",
            "Epoch [23/35]\n",
            "Train Loss: 1.3436, Train Acc: 75.84%\n",
            "Val Loss: 1.0765, Val Acc: 83.02%\n",
            "LR: 0.000273\n",
            "------------------------------------------------------------\n",
            "Epoch [24/35]\n",
            "Train Loss: 1.3068, Train Acc: 76.93%\n",
            "Val Loss: 1.0373, Val Acc: 85.41%\n",
            "LR: 0.000206\n",
            "------------------------------------------------------------\n",
            "Epoch [25/35]\n",
            "Train Loss: 1.2832, Train Acc: 78.36%\n",
            "Val Loss: 1.0047, Val Acc: 86.67%\n",
            "LR: 0.000146\n",
            "------------------------------------------------------------\n",
            "Epoch [26/35]\n",
            "Train Loss: 1.2719, Train Acc: 78.69%\n",
            "Val Loss: 1.0064, Val Acc: 85.87%\n",
            "LR: 0.000095\n",
            "------------------------------------------------------------\n",
            "Epoch [27/35]\n",
            "Train Loss: 1.2583, Train Acc: 79.30%\n",
            "Val Loss: 0.9950, Val Acc: 87.49%\n",
            "LR: 0.000054\n",
            "------------------------------------------------------------\n",
            "Epoch [28/35]\n",
            "Train Loss: 1.2501, Train Acc: 79.74%\n",
            "Val Loss: 0.9848, Val Acc: 86.98%\n",
            "LR: 0.000024\n",
            "------------------------------------------------------------\n",
            "Epoch [29/35]\n",
            "Train Loss: 1.2488, Train Acc: 79.58%\n",
            "Val Loss: 0.9935, Val Acc: 87.03%\n",
            "LR: 0.000006\n",
            "------------------------------------------------------------\n",
            "Epoch [30/35]\n",
            "Train Loss: 1.2393, Train Acc: 79.94%\n",
            "Val Loss: 1.0099, Val Acc: 86.06%\n",
            "LR: 0.001000\n",
            "------------------------------------------------------------\n",
            "Epoch [31/35]\n",
            "Train Loss: 1.3550, Train Acc: 75.56%\n",
            "Val Loss: 1.0771, Val Acc: 84.28%\n",
            "LR: 0.000998\n",
            "------------------------------------------------------------\n",
            "Epoch [32/35]\n",
            "Train Loss: 1.3575, Train Acc: 75.69%\n",
            "Val Loss: 1.0700, Val Acc: 84.86%\n",
            "LR: 0.000994\n",
            "------------------------------------------------------------\n",
            "Epoch [33/35]\n",
            "Train Loss: 1.3338, Train Acc: 76.49%\n",
            "Val Loss: 1.0360, Val Acc: 85.43%\n",
            "LR: 0.000986\n",
            "------------------------------------------------------------\n",
            "Epoch [34/35]\n",
            "Train Loss: 1.3026, Train Acc: 77.65%\n",
            "Val Loss: 1.0144, Val Acc: 86.18%\n",
            "LR: 0.000976\n",
            "------------------------------------------------------------\n",
            "Epoch [35/35]\n",
            "Train Loss: 1.2776, Train Acc: 78.88%\n",
            "Val Loss: 1.0002, Val Acc: 86.69%\n",
            "LR: 0.000962\n",
            "------------------------------------------------------------\n"
          ]
        },
        {
          "data": {
            "text/plain": [
              "<Figure size 1500x500 with 2 Axes>"
            ],
            "image/png": "[encoded data removed]"
          },
          "metadata": {},
          "output_type": "display_data"
        },
        {
          "name": "stdout",
          "output_type": "stream",
          "text": [
            "\n",
            "Making predictions with test-time augmentation...\n",
            "TTA step 1/3\n",
            "TTA step 2/3\n",
            "TTA step 3/3\n",
            "\n",
            "Prediction Summary:\n",
            "Total predictions: 7029\n",
            "Predicted letter distribution: {'L': 931, 'F': 310, 'A': 504, 'N': 689, 'R': 882, 'E': 153, 'V': 110, 'T': 595, 'U': 436, 'C': 262, 'I': 118, 'W': 31, 'O': 738, 'D': 366, 'G': 364, 'X': 28, 'B': 87, 'P': 209, 'Q': 102, 'J': 93, 'K': 5, 'H': 16}\n",
            "\n",
            "Sample predictions (first 15):\n",
            "Image 0: Predicted 'L' (confidence: 0.190)\n",
            "Image 1: Predicted 'F' (confidence: 0.652)\n",
            "Image 2: Predicted 'A' (confidence: 0.068)\n",
            "Image 3: Predicted 'N' (confidence: 0.215)\n",
            "Image 4: Predicted 'A' (confidence: 0.272)\n",
            "Image 5: Predicted 'R' (confidence: 0.125)\n",
            "Image 6: Predicted 'F' (confidence: 0.144)\n",
            "Image 7: Predicted 'E' (confidence: 0.166)\n",
            "Image 8: Predicted 'V' (confidence: 0.396)\n",
            "Image 9: Predicted 'T' (confidence: 0.709)\n",
            "Image 10: Predicted 'V' (confidence: 0.483)\n",
            "Image 11: Predicted 'N' (confidence: 0.646)\n",
            "Image 12: Predicted 'U' (confidence: 0.113)\n",
            "Image 13: Predicted 'C' (confidence: 0.717)\n",
            "Image 14: Predicted 'R' (confidence: 0.263)\n",
            "Predictions saved to predictions.csv\n",
            "Annotated TODO dataset saved as 'todo_annotated.pth'\n",
            "\n",
            "=== Task Complete! ===\n",
            "Margot's TODO dataset has been successfully annotated !\n",
            "Generated files:\n",
            "- predictions.csv: Required submission format (ID, Labels)\n",
            "\n",
            "Final validation accuracy: 87.49%\n"
          ]
        }
      ],
      "execution_count": null
    }
  ],
  "metadata": {
    "kernelspec": {
      "display_name": "Python 3",
      "language": "python",
      "name": "python3"
    },
    "language_info": {
      "codemirror_mode": {
        "name": "ipython",
        "version": 2
      },
      "file_extension": ".py",
      "mimetype": "text/x-python",
      "name": "python",
      "nbconvert_exporter": "python",
      "pygments_lexer": "ipython2",
      "version": "2.7.6"
    },
    "colab": {
      "provenance": []
    }
  },
  "nbformat": 4,
  "nbformat_minor": 5
}